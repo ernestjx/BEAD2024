{
  "nbformat": 4,
  "nbformat_minor": 0,
  "metadata": {
    "colab": {
      "provenance": [],
      "toc_visible": true,
      "authorship_tag": "ABX9TyOlf20PrdRGjkmnn6wnZqcm",
      "include_colab_link": true
    },
    "kernelspec": {
      "name": "python3",
      "display_name": "Python 3"
    },
    "language_info": {
      "name": "python"
    }
  },
  "cells": [
    {
      "cell_type": "markdown",
      "metadata": {
        "id": "view-in-github",
        "colab_type": "text"
      },
      "source": [
        "<a href=\"https://colab.research.google.com/github/ernestjx/BEAD2024/blob/main/data_pipeline.ipynb\" target=\"_parent\"><img src=\"https://colab.research.google.com/assets/colab-badge.svg\" alt=\"Open In Colab\"/></a>"
      ]
    },
    {
      "cell_type": "code",
      "execution_count": null,
      "metadata": {
        "id": "rFEYsQ4SEdnX"
      },
      "outputs": [],
      "source": []
    },
    {
      "cell_type": "markdown",
      "source": [
        "hi ernest made an edit!!!!!"
      ],
      "metadata": {
        "id": "VsFXXpp3GelE"
      }
    },
    {
      "cell_type": "code",
      "source": [
        "#import libraries"
      ],
      "metadata": {
        "id": "AmngQmU7HxAR"
      },
      "execution_count": null,
      "outputs": []
    },
    {
      "cell_type": "markdown",
      "source": [
        "# Extract Data"
      ],
      "metadata": {
        "id": "UZUkiysSHXHn"
      }
    },
    {
      "cell_type": "code",
      "source": [
        "# write some code to extract data"
      ],
      "metadata": {
        "id": "DrEMUh6LHbik"
      },
      "execution_count": null,
      "outputs": []
    },
    {
      "cell_type": "markdown",
      "source": [
        "# Transform Data"
      ],
      "metadata": {
        "id": "_amirDmgHXob"
      }
    },
    {
      "cell_type": "code",
      "source": [
        "# write some code to transform data"
      ],
      "metadata": {
        "id": "sdcoGUKfHj-H"
      },
      "execution_count": null,
      "outputs": []
    },
    {
      "cell_type": "markdown",
      "source": [
        "# Load Data"
      ],
      "metadata": {
        "id": "GdYFLNuYHm0-"
      }
    },
    {
      "cell_type": "code",
      "source": [
        "# save data into DB"
      ],
      "metadata": {
        "id": "K8h8F_2FH5at"
      },
      "execution_count": null,
      "outputs": []
    },
    {
      "cell_type": "markdown",
      "source": [
        "# Analysis"
      ],
      "metadata": {
        "id": "uxU2n38WH9bQ"
      }
    },
    {
      "cell_type": "code",
      "source": [
        "# write some cool ML code and perform fancy visualizations"
      ],
      "metadata": {
        "id": "CgDlO9jgH-Dp"
      },
      "execution_count": null,
      "outputs": []
    }
  ]
}